{
  "nbformat": 4,
  "nbformat_minor": 0,
  "metadata": {
    "colab": {
      "name": "single_feature.ipynb",
      "provenance": [],
      "collapsed_sections": []
    },
    "kernelspec": {
      "name": "python3",
      "display_name": "Python 3"
    },
    "language_info": {
      "name": "python"
    }
  },
  "cells": [
    {
      "cell_type": "code",
      "metadata": {
        "id": "fwsHf4VXh_7n"
      },
      "source": [
        "# Assigning features and label variables\n",
        "Weather = ['Sunny','Sunny','Overcast','Rainy','Rainy','Rainy','Overcast','Sunny','Sunny',\n",
        "'Rainy','Sunny','Overcast','Overcast','Rainy']\n",
        "Temp = ['Hot','Hot','Hot','Mild','Cool','Cool','Cool','Mild','Cool','Mild','Mild','Mild','Hot','Mild']\n",
        "\n",
        "Play =['No','No','Yes','Yes','Yes','No','Yes','No','Yes','Yes','Yes','Yes','Yes','No']"
      ],
      "execution_count": 1,
      "outputs": []
    },
    {
      "cell_type": "code",
      "metadata": {
        "id": "V9HXUstgiSxP"
      },
      "source": [
        "\n",
        "from sklearn import preprocessing\n",
        "\n",
        "\n",
        "le = preprocessing.LabelEncoder()\n",
        "\n",
        "\n",
        "weather_encoded = le.fit_transform(Weather)\n",
        "print(weather_encoded)"
      ],
      "execution_count": null,
      "outputs": []
    },
    {
      "cell_type": "code",
      "metadata": {
        "id": "VtfXq8lriZsj"
      },
      "source": [
        "\n",
        "temp_encoded = le.fit_transform(Temp)\n",
        "label = le.fit_transform(Play)\n",
        "\n",
        "print(\"Temp:\", temp_encoded)\n",
        "print(\"Play :\", label)"
      ],
      "execution_count": null,
      "outputs": []
    },
    {
      "cell_type": "code",
      "metadata": {
        "id": "pZVKsGhsidg9"
      },
      "source": [
        "\n",
        "features = [tup for tup in zip(weather_encoded, temp_encoded)]\n",
        "print(features)"
      ],
      "execution_count": null,
      "outputs": []
    },
    {
      "cell_type": "code",
      "metadata": {
        "id": "1O4PeH_xigZf"
      },
      "source": [
        "\n",
        "from sklearn.naive_bayes import GaussianNB\n",
        "\n",
        "model = GaussianNB()\n",
        "\n",
        "\n",
        "model.fit(features,label)\n",
        "\n",
        "#Predict Output\n",
        "predicted= model.predict([[0,2]]) # 0:Overcast, 2:Mild | Overcast', 'Rainy', 'Sunny' as 0, 1, 2 | cool,hot & mild as 0,1 ,2\n",
        "print(\"Predicted Value:\", predicted)"
      ],
      "execution_count": null,
      "outputs": []
    }
  ]
}